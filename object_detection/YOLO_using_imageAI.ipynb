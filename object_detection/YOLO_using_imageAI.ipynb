{
 "cells": [
  {
   "cell_type": "code",
   "execution_count": 1,
   "id": "norman-machine",
   "metadata": {},
   "outputs": [],
   "source": [
    "import cv2\n",
    "from imageai import Detection"
   ]
  },
  {
   "cell_type": "code",
   "execution_count": 2,
   "id": "killing-command",
   "metadata": {},
   "outputs": [],
   "source": [
    "modelpath = 'h5_weights/yolo.h5'"
   ]
  },
  {
   "cell_type": "code",
   "execution_count": 3,
   "id": "precious-concrete",
   "metadata": {},
   "outputs": [],
   "source": [
    "yolo = Detection.ObjectDetection()\n",
    "\n",
    "yolo.setModelTypeAsYOLOv3()\n",
    "yolo.setModelPath(modelpath)\n",
    "\n",
    "yolo.loadModel()"
   ]
  },
  {
   "cell_type": "markdown",
   "id": "ruled-financing",
   "metadata": {},
   "source": [
    "___"
   ]
  },
  {
   "cell_type": "code",
   "execution_count": 4,
   "id": "jewish-helicopter",
   "metadata": {},
   "outputs": [],
   "source": [
    "def translation(predict: bool = False):\n",
    "    cam = cv2.VideoCapture(0)\n",
    "    \n",
    "    while True:\n",
    "        ret, img = cam.read()\n",
    "        \n",
    "        if predict:\n",
    "            img, preds = yolo.detectObjectsFromImage(input_image=img, \n",
    "                              custom_objects=None, input_type=\"array\",\n",
    "                              output_type=\"array\",\n",
    "                              minimum_percentage_probability=70,\n",
    "                              display_percentage_probability=False,\n",
    "                              display_object_name=True)\n",
    "\n",
    "        cv2.imshow('Image from WebCam', img)\n",
    "\n",
    "        if cv2.waitKey(1) & 0xFF == ord('q') or cv2.waitKey(1) == 27:\n",
    "            break\n",
    "\n",
    "    cam.release()\n",
    "    cv2.destroyAllWindows()"
   ]
  },
  {
   "cell_type": "code",
   "execution_count": 5,
   "id": "qualified-replication",
   "metadata": {},
   "outputs": [],
   "source": [
    "predict = True\n",
    "translation(predict=predict)"
   ]
  }
 ],
 "metadata": {
  "kernelspec": {
   "display_name": "Python 3",
   "language": "python",
   "name": "python3"
  },
  "language_info": {
   "codemirror_mode": {
    "name": "ipython",
    "version": 3
   },
   "file_extension": ".py",
   "mimetype": "text/x-python",
   "name": "python",
   "nbconvert_exporter": "python",
   "pygments_lexer": "ipython3",
   "version": "3.7.9"
  }
 },
 "nbformat": 4,
 "nbformat_minor": 5
}
